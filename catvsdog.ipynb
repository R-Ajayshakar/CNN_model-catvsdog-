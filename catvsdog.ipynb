{
 "cells": [
  {
   "cell_type": "code",
   "execution_count": 8,
   "metadata": {},
   "outputs": [],
   "source": [
    "import torch\n",
    "import torchvision\n",
    "import torch.nn as nn\n",
    "import numpy as np\n",
    "import pandas as pd\n",
    "import torchvision.transforms as transform\n",
    "import matplotlib.pyplot as plt\n",
    "import os\n",
    "from PIL import Image\n",
    "from torch.utils.data import DataLoader,Dataset,random_split"
   ]
  },
  {
   "cell_type": "code",
   "execution_count": 9,
   "metadata": {},
   "outputs": [],
   "source": [
    "tr_df = pd.DataFrame(columns=[\"img_name\",\"Label\"])\n",
    "tr_df[\"img_name\"] = os.listdir(r\"C:\\Users\\Ajay shankar\\Downloads\\train\")\n",
    "for idx,i in enumerate(os.listdir(r\"C:\\Users\\Ajay shankar\\Downloads\\train\")):\n",
    "    if \"cat\" in i:\n",
    "        tr_df.at[idx,\"Label\"] = 0\n",
    "    if \"dog\" in i:\n",
    "        tr_df.at[idx,\"Label\"] = 1\n",
    "\n",
    "tr_df.to_csv(r'tr_csv.csv',index = False,header = True)"
   ]
  },
  {
   "cell_type": "code",
   "execution_count": 10,
   "metadata": {},
   "outputs": [
    {
     "name": "stdout",
     "output_type": "stream",
     "text": [
      "           img_name Label\n",
      "0         cat.0.jpg     0\n",
      "1         cat.1.jpg     0\n",
      "2        cat.10.jpg     0\n",
      "3       cat.100.jpg     0\n",
      "4      cat.1000.jpg     0\n",
      "...             ...   ...\n",
      "25581    dog_92.jpg     1\n",
      "25582    dog_93.jpg     1\n",
      "25583    dog_97.jpg     1\n",
      "25584    dog_98.jpg     1\n",
      "25585    dog_99.jpg     1\n",
      "\n",
      "[25586 rows x 2 columns]\n"
     ]
    }
   ],
   "source": [
    "print(tr_df)"
   ]
  },
  {
   "cell_type": "code",
   "execution_count": 11,
   "metadata": {},
   "outputs": [],
   "source": [
    "class customdataset(Dataset):\n",
    "    def __init__(self,root_dir,csv_file,transform=None):\n",
    "        self.root_dir = root_dir\n",
    "        self.img_file = pd.read_csv(csv_file)\n",
    "        self.transform = transform\n",
    "\n",
    "    def __len__(self):\n",
    "        return len(self.img_file)\n",
    "    \n",
    "    def __getitem__(self,idx):\n",
    "        img_name = os.path.join(self.root_dir,self.img_file.iloc[idx,0])\n",
    "        image = Image.open(img_name)\n",
    "        Label = self.img_file.iloc[idx,1]\n",
    "        if self.transform:\n",
    "            image = self.transform(image)\n",
    "        return image,Label\n",
    "    \n"
   ]
  },
  {
   "cell_type": "code",
   "execution_count": 12,
   "metadata": {},
   "outputs": [],
   "source": [
    "all_transform = transform.Compose([\n",
    "    transform.Resize((64, 64)),  # Adjust this size to match your model's expected input\n",
    "    transform.Grayscale(num_output_channels=3),  # Convert grayscale to 3-channel RGB\n",
    "    transform.ToTensor(),\n",
    "    transform.Normalize(mean=[0.5, 0.5, 0.5], std=[0.5, 0.5, 0.5])\n",
    "])"
   ]
  },
  {
   "cell_type": "code",
   "execution_count": 13,
   "metadata": {},
   "outputs": [],
   "source": [
    "b_size=32\n",
    "n_classes=2\n",
    "lr=0.007\n",
    "num_epochs=10"
   ]
  },
  {
   "cell_type": "code",
   "execution_count": 14,
   "metadata": {},
   "outputs": [],
   "source": [
    "f_dataset = customdataset(root_dir=r\"C:\\Users\\Ajay shankar\\Downloads\\train\",csv_file='tr_csv.csv',transform=all_transform)\n",
    "train_s = int(0.7 * len(f_dataset))\n",
    "test_s = int(0.2 * len(f_dataset))\n",
    "validate_s = int(len(f_dataset)) - train_s - test_s"
   ]
  },
  {
   "cell_type": "code",
   "execution_count": 15,
   "metadata": {},
   "outputs": [],
   "source": [
    "train_dataset,test_dataset,validate_dataset = random_split(f_dataset,[train_s,test_s,validate_s])"
   ]
  },
  {
   "cell_type": "code",
   "execution_count": 16,
   "metadata": {},
   "outputs": [],
   "source": [
    "train_loader = DataLoader(dataset=train_dataset,batch_size=b_size,shuffle=True)\n",
    "test_loader = DataLoader(dataset=test_dataset,batch_size=b_size,shuffle=True)\n",
    "validate_loader = DataLoader(dataset=validate_dataset,batch_size=b_size,shuffle=True)"
   ]
  },
  {
   "cell_type": "code",
   "execution_count": 17,
   "metadata": {},
   "outputs": [],
   "source": [
    "class CNN(nn.Module):\n",
    "    def __init__(self,n_classes):\n",
    "        super(CNN, self).__init__()\n",
    "        self.cl1 = nn.Conv2d(in_channels=3,out_channels=32,kernel_size=3)\n",
    "        self.cl2 = nn.Conv2d(in_channels=32,out_channels=32,kernel_size=3)\n",
    "        self.maxpool1 = nn.MaxPool2d(kernel_size=2,stride=2)\n",
    "\n",
    "        self.cl3 = nn.Conv2d(in_channels=32,out_channels=64,kernel_size=3)\n",
    "        self.cl4 = nn.Conv2d(in_channels=64,out_channels=64,kernel_size=3)\n",
    "        self.maxpool2 = nn.MaxPool2d(kernel_size=2,stride=2)\n",
    "\n",
    "        \n",
    "\n",
    "        self.fc1 = nn.Linear(10816,128)\n",
    "        self.relu1 = nn.ReLU()\n",
    "        self.fc2 = nn.Linear(128,128)\n",
    "        self.relu2 = nn.ReLU()\n",
    "        self.fc3 = nn.Linear(128,n_classes)\n",
    "\n",
    "    def forward(self,x):\n",
    "        out = self.cl1(x)\n",
    "        out = self.cl2(out)\n",
    "        out = self.maxpool1(out)\n",
    "\n",
    "        out = self.cl3(out)\n",
    "        out = self.cl4(out)\n",
    "        out = self.maxpool2(out)\n",
    "\n",
    "        \n",
    "\n",
    "        out = out.reshape(out.size(0),-1)\n",
    "\n",
    "        out = self.fc1(out)\n",
    "        out = self.relu1(out)\n",
    "        out = self.fc2(out)\n",
    "        out = self.relu2(out)\n",
    "        out = self.fc3(out)\n",
    "        \n",
    "        return out"
   ]
  },
  {
   "cell_type": "code",
   "execution_count": 18,
   "metadata": {},
   "outputs": [],
   "source": [
    "model = CNN(n_classes)\n",
    "model.load_state_dict(torch.load(\"catvsdog.pth\"))\n",
    "criterion = nn.CrossEntropyLoss()\n",
    "optimizer = torch.optim.SGD(model.parameters(),lr=lr,weight_decay=0.005,momentum=0.9)"
   ]
  },
  {
   "cell_type": "code",
   "execution_count": 19,
   "metadata": {},
   "outputs": [],
   "source": [
    "torch.save(model.state_dict(),'catvsdog.pth')"
   ]
  },
  {
   "cell_type": "code",
   "execution_count": 20,
   "metadata": {},
   "outputs": [],
   "source": [
    "model = CNN(n_classes)\n",
    "model.load_state_dict(torch.load(\"catvsdog.pth\"))\n",
    "criterion = nn.CrossEntropyLoss()\n",
    "optimizer = torch.optim.SGD(model.parameters(),lr=lr,weight_decay=0.005,momentum=0.9)"
   ]
  },
  {
   "cell_type": "code",
   "execution_count": 21,
   "metadata": {},
   "outputs": [
    {
     "name": "stdout",
     "output_type": "stream",
     "text": [
      "torch.Size([32, 3, 64, 64])\n"
     ]
    }
   ],
   "source": [
    "for inputs, label in train_loader:\n",
    "    print(inputs.shape)  # Check this before passing to the model\n",
    "    break\n"
   ]
  },
  {
   "cell_type": "code",
   "execution_count": 22,
   "metadata": {},
   "outputs": [
    {
     "name": "stdout",
     "output_type": "stream",
     "text": [
      "Epoch 1: model accuracy 88.8802%\n",
      "Epoch 2: model accuracy 86.1833%\n",
      "Epoch 3: model accuracy 85.1866%\n",
      "Epoch 4: model accuracy 83.8186%\n",
      "Epoch 5: model accuracy 82.3529%\n",
      "Epoch 6: model accuracy 80.9068%\n",
      "Epoch 7: model accuracy 80.2814%\n",
      "Epoch 8: model accuracy 79.7928%\n",
      "Epoch 9: model accuracy 79.3043%\n",
      "Epoch 10: model accuracy 79.2652%\n"
     ]
    }
   ],
   "source": [
    "for epoch in range(num_epochs):\n",
    "    model.train()\n",
    "    for inputs,label in train_loader:\n",
    "        pred = model(inputs)\n",
    "        loss = criterion(pred,label)\n",
    "        optimizer.zero_grad()\n",
    "        loss.backward()\n",
    "        optimizer.step()\n",
    "\n",
    "    model.eval()\n",
    "    acc = 0\n",
    "    count = 0\n",
    "    with torch.no_grad():\n",
    "        for inputs,label in test_loader:\n",
    "            pred = model(inputs)\n",
    "            acc += (torch.argmax(pred,1) == label).float().sum()\n",
    "            count += len(label)\n",
    "    acc /= count\n",
    "    print(f\"Epoch {epoch + 1}: model accuracy {acc*100:.4f}%\")"
   ]
  },
  {
   "cell_type": "code",
   "execution_count": 23,
   "metadata": {},
   "outputs": [
    {
     "name": "stdout",
     "output_type": "stream",
     "text": [
      "Validation accuracy 80.2267%\n"
     ]
    }
   ],
   "source": [
    "model.eval()\n",
    "v_acc = 0\n",
    "v_count = 0\n",
    "with torch.no_grad():\n",
    "    for inputs,label in validate_loader:\n",
    "        pred = model(inputs)\n",
    "        v_acc += (torch.argmax(pred,1) == label).float().sum()\n",
    "        v_count += len(label)\n",
    "v_acc /= v_count\n",
    "print(f\"Validation accuracy {v_acc*100:.4f}%\")"
   ]
  },
  {
   "cell_type": "code",
   "execution_count": 24,
   "metadata": {},
   "outputs": [],
   "source": [
    "torch.save(model.state_dict(),'catvsdog.pth')"
   ]
  },
  {
   "cell_type": "code",
   "execution_count": 32,
   "metadata": {},
   "outputs": [
    {
     "name": "stderr",
     "output_type": "stream",
     "text": [
      "Clipping input data to the valid range for imshow with RGB data ([0..1] for floats or [0..255] for integers). Got range [-0.8901961..0.88235295].\n"
     ]
    },
    {
     "data": {
      "image/png": "[encoded data removed]",
      "text/plain": [
       "<Figure size 640x480 with 1 Axes>"
      ]
     },
     "metadata": {},
     "output_type": "display_data"
    }
   ],
   "source": [
    "sample_image, _ = train_dataset[150]\n",
    "plt.imshow(sample_image.permute(1, 2, -0).numpy()) \n",
    "plt.show()"
   ]
  },
  {
   "cell_type": "code",
   "execution_count": 26,
   "metadata": {},
   "outputs": [
    {
     "name": "stdout",
     "output_type": "stream",
     "text": [
      "Model successfully converted to ONNX format: catvsdog.onnx\n"
     ]
    }
   ],
   "source": [
    "import torch\n",
    "\n",
    "# Define your model architecture (make sure CNN is properly defined)\n",
    "model = CNN(n_classes)  \n",
    "model.load_state_dict(torch.load(\"catvsdog.pth\"))  \n",
    "model.eval()  # Set to evaluation mode\n",
    "\n",
    "# Create a dummy input tensor (batch size 1, 3 color channels, 32x32 image)\n",
    "dummy_input = torch.randn(1, 3, 64, 64)\n",
    "\n",
    "# Export the model to ONNX format\n",
    "torch.onnx.export(model, dummy_input, \"catvsdog.onnx\", \n",
    "                  input_names=[\"input\"], output_names=[\"output\"], \n",
    "                  dynamic_axes={\"input\": {0: \"batch_size\"}, \"output\": {0: \"batch_size\"}})\n",
    "\n",
    "print(\"Model successfully converted to ONNX format: catvsdog.onnx\")\n"
   ]
  },
  {
   "cell_type": "code",
   "execution_count": 27,
   "metadata": {},
   "outputs": [
    {
     "name": "stdout",
     "output_type": "stream",
     "text": [
      "Model Output: [[-6.835502  6.829153]]\n"
     ]
    }
   ],
   "source": [
    "import onnxruntime as ort\n",
    "import numpy as np\n",
    "\n",
    "# Load the ONNX model\n",
    "session = ort.InferenceSession(\"catvsdog.onnx\")\n",
    "\n",
    "# Get model input details\n",
    "input_name = session.get_inputs()[0].name\n",
    "\n",
    "# Create a dummy input (batch size 1, 3 color channels, 32x32 image)\n",
    "dummy_input = np.random.randn(1, 3, 64, 64).astype(np.float32)\n",
    "\n",
    "# Run inference\n",
    "outputs = session.run(None, {input_name: dummy_input})\n",
    "\n",
    "# Print output\n",
    "print(\"Model Output:\", outputs[0])\n"
   ]
  },
  {
   "cell_type": "code",
   "execution_count": 28,
   "metadata": {},
   "outputs": [
    {
     "name": "stdout",
     "output_type": "stream",
     "text": [
      "Probabilities: [[1.1628265e-06 9.9999881e-01]]\n"
     ]
    }
   ],
   "source": [
    "import torch.nn.functional as F\n",
    "probabilities = F.softmax(torch.tensor(outputs[0]), dim=1).numpy()\n",
    "print(\"Probabilities:\", probabilities)\n"
   ]
  }
 ],
 "metadata": {
  "kernelspec": {
   "display_name": "Python 3",
   "language": "python",
   "name": "python3"
  },
  "language_info": {
   "codemirror_mode": {
    "name": "ipython",
    "version": 3
   },
   "file_extension": ".py",
   "mimetype": "text/x-python",
   "name": "python",
   "nbconvert_exporter": "python",
   "pygments_lexer": "ipython3",
   "version": "3.12.4"
  }
 },
 "nbformat": 4,
 "nbformat_minor": 4
}
